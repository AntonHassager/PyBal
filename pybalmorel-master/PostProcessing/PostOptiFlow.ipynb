{
 "cells": [
  {
   "cell_type": "markdown",
   "metadata": {},
   "source": [
    "# Initialization"
   ]
  },
  {
   "cell_type": "code",
   "execution_count": 1,
   "metadata": {},
   "outputs": [
    {
     "name": "stdout",
     "output_type": "stream",
     "text": [
      "GAMS DLL loaded successfully\n"
     ]
    }
   ],
   "source": [
    "### 0.1 Use development scripts or the package installed from pip\n",
    "use_development = True\n",
    "if use_development:\n",
    "    import sys\n",
    "    import os\n",
    "    # Adjust the sys.path to include the project root directory\n",
    "    project_root = os.path.abspath(os.path.join(os.path.dirname(\"__file__\"), '..'))\n",
    "    if project_root not in sys.path:\n",
    "        sys.path.insert(0, project_root)\n",
    "    from src.pybalmorel import MainResults\n",
    "    from src.pybalmorel.utils import symbol_to_df\n",
    "else:\n",
    "    from pybalmorel import MainResults\n",
    "    from pybalmorel.utils import symbol_to_df\n",
    "\n",
    "import ctypes\n",
    "\n",
    "# Explicitly load the GAMS DLL\n",
    "try:\n",
    "    ctypes.windll.LoadLibrary(\"C:/GAMS/48/gmdcclib64.dll\")\n",
    "    print(\"GAMS DLL loaded successfully\")\n",
    "except Exception as e:\n",
    "    print(f\"Failed to load GAMS DLL: {e}\")"
   ]
  },
  {
   "cell_type": "markdown",
   "metadata": {},
   "source": [
    "## Loading in the GDX file"
   ]
  },
  {
   "cell_type": "code",
   "execution_count": 2,
   "metadata": {},
   "outputs": [
    {
     "name": "stdout",
     "output_type": "stream",
     "text": [
      "c:\\Users\\anton\\OneDrive - Danmarks Tekniske Universitet\\Master_Projekt\\PyBal\\pybalmorel-master\\PostProcessing\\files\\Optiflow_MainResults1.gdx\n"
     ]
    }
   ],
   "source": [
    "res1 = MainResults(files='Optiflow_MainResults1.gdx', paths='files')"
   ]
  },
  {
   "cell_type": "markdown",
   "metadata": {},
   "source": [
    "### Creating DataFrames"
   ]
  },
  {
   "cell_type": "code",
   "execution_count": 5,
   "metadata": {},
   "outputs": [
    {
     "data": {
      "text/html": [
       "<div>\n",
       "<style scoped>\n",
       "    .dataframe tbody tr th:only-of-type {\n",
       "        vertical-align: middle;\n",
       "    }\n",
       "\n",
       "    .dataframe tbody tr th {\n",
       "        vertical-align: top;\n",
       "    }\n",
       "\n",
       "    .dataframe thead th {\n",
       "        text-align: right;\n",
       "    }\n",
       "</style>\n",
       "<table border=\"1\" class=\"dataframe\">\n",
       "  <thead>\n",
       "    <tr style=\"text-align: right;\">\n",
       "      <th></th>\n",
       "      <th>Scenario</th>\n",
       "      <th>Y</th>\n",
       "      <th>CCC</th>\n",
       "      <th>IPROCFROM</th>\n",
       "      <th>IPROCTO</th>\n",
       "      <th>FLOW</th>\n",
       "      <th>Value</th>\n",
       "    </tr>\n",
       "  </thead>\n",
       "  <tbody>\n",
       "    <tr>\n",
       "      <th>0</th>\n",
       "      <td>Optiflow_1</td>\n",
       "      <td>2050</td>\n",
       "      <td>DENMARK</td>\n",
       "      <td>HYDROGEN</td>\n",
       "      <td>Hydrogen_GRID_IN</td>\n",
       "      <td>HYDROGEN_FLOW</td>\n",
       "      <td>64.198239</td>\n",
       "    </tr>\n",
       "    <tr>\n",
       "      <th>1</th>\n",
       "      <td>Optiflow_1</td>\n",
       "      <td>2050</td>\n",
       "      <td>DENMARK</td>\n",
       "      <td>EMethanolBuffer</td>\n",
       "      <td>EMethanol_Eff</td>\n",
       "      <td>EMETHANOLFLOW</td>\n",
       "      <td>21.951930</td>\n",
       "    </tr>\n",
       "    <tr>\n",
       "      <th>2</th>\n",
       "      <td>Optiflow_1</td>\n",
       "      <td>2050</td>\n",
       "      <td>DENMARK</td>\n",
       "      <td>EMethanolBuffer</td>\n",
       "      <td>Money_buffer_T</td>\n",
       "      <td>OPERATIONCOST</td>\n",
       "      <td>0.219519</td>\n",
       "    </tr>\n",
       "    <tr>\n",
       "      <th>3</th>\n",
       "      <td>Optiflow_1</td>\n",
       "      <td>2050</td>\n",
       "      <td>DENMARK</td>\n",
       "      <td>AmmoniaBuffer</td>\n",
       "      <td>Ammonia_Eff</td>\n",
       "      <td>AMMONIA_FLOW</td>\n",
       "      <td>38.515847</td>\n",
       "    </tr>\n",
       "    <tr>\n",
       "      <th>4</th>\n",
       "      <td>Optiflow_1</td>\n",
       "      <td>2050</td>\n",
       "      <td>DENMARK</td>\n",
       "      <td>AmmoniaBuffer</td>\n",
       "      <td>Money_buffer_T</td>\n",
       "      <td>OPERATIONCOST</td>\n",
       "      <td>0.385158</td>\n",
       "    </tr>\n",
       "  </tbody>\n",
       "</table>\n",
       "</div>"
      ],
      "text/plain": [
       "     Scenario     Y      CCC        IPROCFROM           IPROCTO  \\\n",
       "0  Optiflow_1  2050  DENMARK         HYDROGEN  Hydrogen_GRID_IN   \n",
       "1  Optiflow_1  2050  DENMARK  EMethanolBuffer     EMethanol_Eff   \n",
       "2  Optiflow_1  2050  DENMARK  EMethanolBuffer    Money_buffer_T   \n",
       "3  Optiflow_1  2050  DENMARK    AmmoniaBuffer       Ammonia_Eff   \n",
       "4  Optiflow_1  2050  DENMARK    AmmoniaBuffer    Money_buffer_T   \n",
       "\n",
       "            FLOW      Value  \n",
       "0  HYDROGEN_FLOW  64.198239  \n",
       "1  EMETHANOLFLOW  21.951930  \n",
       "2  OPERATIONCOST   0.219519  \n",
       "3   AMMONIA_FLOW  38.515847  \n",
       "4  OPERATIONCOST   0.385158  "
      ]
     },
     "execution_count": 5,
     "metadata": {},
     "output_type": "execute_result"
    }
   ],
   "source": [
    "import pandas as pd\n",
    "# Getting a result in DataFrame format\n",
    "df_res1 = pd.DataFrame(res1.get_result('VFLOW_Opti_C'))\n",
    "df_res1.head()"
   ]
  },
  {
   "cell_type": "markdown",
   "metadata": {},
   "source": [
    "#### Filtering data example"
   ]
  },
  {
   "cell_type": "code",
   "execution_count": 6,
   "metadata": {},
   "outputs": [
    {
     "name": "stdout",
     "output_type": "stream",
     "text": [
      "Sequestered CO₂: 1.597 MtCO₂\n",
      "Utilized CO₂: 3.028 MtCO₂\n"
     ]
    }
   ],
   "source": [
    "#Filter the data frame to be only the ones with \"CO2\" contained in the \"IPROCFROM\" column and denmark from the CCC column\n",
    "df_res1Filtered = df_res1[df_res1['IPROCFROM'].str.contains('CO2') & df_res1['CCC'].str.contains('DENMARK')].copy()\n",
    "df_res1Filtered\n",
    "\n",
    "# Calculate Sequestered CO2\n",
    "# Rows where IPROCTO indicates sequestration (e.g., CO2_Seq_50 or CO2_Seq_Sum)\n",
    "sequestered = df_res1Filtered[df_res1Filtered['IPROCTO'].str.contains('CO2_Seq')]['Value'].sum()\n",
    "\n",
    "# Calculate Utilized CO2\n",
    "# Rows where IPROCTO indicates utilization (e.g., CO2_Use or Ethanol_synthesis)\n",
    "utilized = df_res1Filtered[df_res1Filtered['IPROCTO'].str.contains('CO2_Use|Ethanol|Methanol')]['Value'].sum()\n",
    "\n",
    "# Calculate Emitted CO2\n",
    "# Rows where IPROCTO indicates emissions (e.g., CO2_Grid_Out or other outputs)\n",
    "emitted = df_res1Filtered[df_res1Filtered['IPROCTO'].str.contains('CO2_Grid_Out|CO2_FLOW_OUT')]['Value'].sum()\n",
    "\n",
    "# Print results\n",
    "print(f\"Sequestered CO₂: {sequestered:.3f} MtCO₂\")\n",
    "print(f\"Utilized CO₂: {utilized:.3f} MtCO₂\")"
   ]
  }
 ],
 "metadata": {
  "kernelspec": {
   "display_name": "Python 3",
   "language": "python",
   "name": "python3"
  },
  "language_info": {
   "codemirror_mode": {
    "name": "ipython",
    "version": 3
   },
   "file_extension": ".py",
   "mimetype": "text/x-python",
   "name": "python",
   "nbconvert_exporter": "python",
   "pygments_lexer": "ipython3",
   "version": "3.11.9"
  }
 },
 "nbformat": 4,
 "nbformat_minor": 2
}
