{
 "cells": [
  {
   "cell_type": "markdown",
   "metadata": {},
   "source": [
    "# Initialization"
   ]
  },
  {
   "cell_type": "code",
   "execution_count": 1,
   "metadata": {},
   "outputs": [
    {
     "name": "stdout",
     "output_type": "stream",
     "text": [
      "GAMS DLL loaded successfully\n"
     ]
    }
   ],
   "source": [
    "### 0.1 Use development scripts or the package installed from pip\n",
    "use_development = True\n",
    "if use_development:\n",
    "    import sys\n",
    "    import os\n",
    "    # Adjust the sys.path to include the project root directory\n",
    "    project_root = os.path.abspath(os.path.join(os.path.dirname(\"__file__\"), '..'))\n",
    "    if project_root not in sys.path:\n",
    "        sys.path.insert(0, project_root)\n",
    "    from src.pybalmorel import MainResults\n",
    "    from src.pybalmorel.utils import symbol_to_df\n",
    "else:\n",
    "    from pybalmorel import MainResults\n",
    "    from pybalmorel.utils import symbol_to_df\n",
    "\n",
    "import ctypes\n",
    "\n",
    "# Explicitly load the GAMS DLL\n",
    "try:\n",
    "    ctypes.windll.LoadLibrary(\"C:/GAMS/48/gmdcclib64.dll\")\n",
    "    print(\"GAMS DLL loaded successfully\")\n",
    "except Exception as e:\n",
    "    print(f\"Failed to load GAMS DLL: {e}\")"
   ]
  },
  {
   "cell_type": "markdown",
   "metadata": {},
   "source": [
    "## Loading in the GDX file"
   ]
  },
  {
   "cell_type": "code",
   "execution_count": 2,
   "metadata": {},
   "outputs": [
    {
     "name": "stdout",
     "output_type": "stream",
     "text": [
      "c:\\Users\\anton\\OneDrive - Danmarks Tekniske Universitet\\Master_Projekt\\PyBal\\pybalmorel-master\\PostProcessing\\files\\MainResults1.gdx\n"
     ]
    }
   ],
   "source": [
    "res1 = MainResults(files='MainResults1.gdx', paths='files')"
   ]
  },
  {
   "cell_type": "markdown",
   "metadata": {},
   "source": [
    "### Creating DataFrames"
   ]
  },
  {
   "cell_type": "markdown",
   "metadata": {},
   "source": []
  },
  {
   "cell_type": "code",
   "execution_count": 4,
   "metadata": {},
   "outputs": [
    {
     "data": {
      "text/html": [
       "<div>\n",
       "<style scoped>\n",
       "    .dataframe tbody tr th:only-of-type {\n",
       "        vertical-align: middle;\n",
       "    }\n",
       "\n",
       "    .dataframe tbody tr th {\n",
       "        vertical-align: top;\n",
       "    }\n",
       "\n",
       "    .dataframe thead th {\n",
       "        text-align: right;\n",
       "    }\n",
       "</style>\n",
       "<table border=\"1\" class=\"dataframe\">\n",
       "  <thead>\n",
       "    <tr style=\"text-align: right;\">\n",
       "      <th></th>\n",
       "      <th>Scenario</th>\n",
       "      <th>Year</th>\n",
       "      <th>Country</th>\n",
       "      <th>Region</th>\n",
       "      <th>Area</th>\n",
       "      <th>Generation</th>\n",
       "      <th>Fuel</th>\n",
       "      <th>Commodity</th>\n",
       "      <th>Technology</th>\n",
       "      <th>Category</th>\n",
       "      <th>Unit</th>\n",
       "      <th>Value</th>\n",
       "    </tr>\n",
       "  </thead>\n",
       "  <tbody>\n",
       "    <tr>\n",
       "      <th>0</th>\n",
       "      <td>1</td>\n",
       "      <td>2050</td>\n",
       "      <td>DENMARK</td>\n",
       "      <td>DK1</td>\n",
       "      <td>DK1_A</td>\n",
       "      <td>GNR_BO_ELEC_E-99_LS-10-MW-FEED_Y-2050</td>\n",
       "      <td>ELECTRIC</td>\n",
       "      <td>HEAT</td>\n",
       "      <td>ELECT-TO-HEAT</td>\n",
       "      <td>ENDOGENOUS</td>\n",
       "      <td>GW</td>\n",
       "      <td>0.603744</td>\n",
       "    </tr>\n",
       "    <tr>\n",
       "      <th>1</th>\n",
       "      <td>1</td>\n",
       "      <td>2050</td>\n",
       "      <td>DENMARK</td>\n",
       "      <td>DK1</td>\n",
       "      <td>DK1_A</td>\n",
       "      <td>GNR_ENG_BGAS_BP_E-42</td>\n",
       "      <td>BIOGAS</td>\n",
       "      <td>HEAT</td>\n",
       "      <td>CHP-BACK-PRESSURE</td>\n",
       "      <td>EXOGENOUS</td>\n",
       "      <td>GW</td>\n",
       "      <td>0.129104</td>\n",
       "    </tr>\n",
       "    <tr>\n",
       "      <th>2</th>\n",
       "      <td>1</td>\n",
       "      <td>2050</td>\n",
       "      <td>DENMARK</td>\n",
       "      <td>DK1</td>\n",
       "      <td>DK1_A</td>\n",
       "      <td>GNR_ENG_BGAS_BP_E-42</td>\n",
       "      <td>BIOGAS</td>\n",
       "      <td>HEAT</td>\n",
       "      <td>CHP-BACK-PRESSURE</td>\n",
       "      <td>DECOMMISSIONING</td>\n",
       "      <td>GW</td>\n",
       "      <td>-0.129104</td>\n",
       "    </tr>\n",
       "    <tr>\n",
       "      <th>3</th>\n",
       "      <td>1</td>\n",
       "      <td>2050</td>\n",
       "      <td>DENMARK</td>\n",
       "      <td>DK1</td>\n",
       "      <td>DK1_A</td>\n",
       "      <td>GNR_ENG_BGAS_BP_E-42</td>\n",
       "      <td>BIOGAS</td>\n",
       "      <td>ELECTRICITY</td>\n",
       "      <td>CHP-BACK-PRESSURE</td>\n",
       "      <td>EXOGENOUS</td>\n",
       "      <td>GW</td>\n",
       "      <td>0.105865</td>\n",
       "    </tr>\n",
       "    <tr>\n",
       "      <th>4</th>\n",
       "      <td>1</td>\n",
       "      <td>2050</td>\n",
       "      <td>DENMARK</td>\n",
       "      <td>DK1</td>\n",
       "      <td>DK1_A</td>\n",
       "      <td>GNR_ENG_BGAS_BP_E-42</td>\n",
       "      <td>BIOGAS</td>\n",
       "      <td>ELECTRICITY</td>\n",
       "      <td>CHP-BACK-PRESSURE</td>\n",
       "      <td>DECOMMISSIONING</td>\n",
       "      <td>GW</td>\n",
       "      <td>-0.105865</td>\n",
       "    </tr>\n",
       "  </tbody>\n",
       "</table>\n",
       "</div>"
      ],
      "text/plain": [
       "  Scenario  Year  Country Region   Area  \\\n",
       "0        1  2050  DENMARK    DK1  DK1_A   \n",
       "1        1  2050  DENMARK    DK1  DK1_A   \n",
       "2        1  2050  DENMARK    DK1  DK1_A   \n",
       "3        1  2050  DENMARK    DK1  DK1_A   \n",
       "4        1  2050  DENMARK    DK1  DK1_A   \n",
       "\n",
       "                              Generation      Fuel    Commodity  \\\n",
       "0  GNR_BO_ELEC_E-99_LS-10-MW-FEED_Y-2050  ELECTRIC         HEAT   \n",
       "1                   GNR_ENG_BGAS_BP_E-42    BIOGAS         HEAT   \n",
       "2                   GNR_ENG_BGAS_BP_E-42    BIOGAS         HEAT   \n",
       "3                   GNR_ENG_BGAS_BP_E-42    BIOGAS  ELECTRICITY   \n",
       "4                   GNR_ENG_BGAS_BP_E-42    BIOGAS  ELECTRICITY   \n",
       "\n",
       "          Technology         Category Unit     Value  \n",
       "0      ELECT-TO-HEAT       ENDOGENOUS   GW  0.603744  \n",
       "1  CHP-BACK-PRESSURE        EXOGENOUS   GW  0.129104  \n",
       "2  CHP-BACK-PRESSURE  DECOMMISSIONING   GW -0.129104  \n",
       "3  CHP-BACK-PRESSURE        EXOGENOUS   GW  0.105865  \n",
       "4  CHP-BACK-PRESSURE  DECOMMISSIONING   GW -0.105865  "
      ]
     },
     "execution_count": 4,
     "metadata": {},
     "output_type": "execute_result"
    }
   ],
   "source": [
    "import pandas as pd\n",
    "# Getting a result in DataFrame format\n",
    "df_res1 = pd.DataFrame(res1.get_result('G_CAP_YCRAF'))\n",
    "df_res1.head()"
   ]
  },
  {
   "cell_type": "markdown",
   "metadata": {},
   "source": [
    "#### Filtering data example"
   ]
  }
 ],
 "metadata": {
  "kernelspec": {
   "display_name": "Python 3",
   "language": "python",
   "name": "python3"
  },
  "language_info": {
   "codemirror_mode": {
    "name": "ipython",
    "version": 3
   },
   "file_extension": ".py",
   "mimetype": "text/x-python",
   "name": "python",
   "nbconvert_exporter": "python",
   "pygments_lexer": "ipython3",
   "version": "3.11.9"
  }
 },
 "nbformat": 4,
 "nbformat_minor": 2
}
